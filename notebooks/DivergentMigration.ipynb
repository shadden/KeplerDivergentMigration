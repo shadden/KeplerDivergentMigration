{
 "cells": [
  {
   "cell_type": "code",
   "execution_count": 1,
   "id": "723ea619",
   "metadata": {},
   "outputs": [],
   "source": [
    "import rebound as rb\n",
    "import reboundx as rbx\n",
    "import celmech as cm\n",
    "from matplotlib import pyplot as plt"
   ]
  },
  {
   "cell_type": "code",
   "execution_count": 2,
   "id": "e50110ee",
   "metadata": {},
   "outputs": [],
   "source": [
    "import numpy as np"
   ]
  },
  {
   "cell_type": "code",
   "execution_count": 3,
   "id": "34099240",
   "metadata": {},
   "outputs": [],
   "source": [
    "from celmech.nbody_simulation_utilities import get_simarchive_integration_results, set_time_step"
   ]
  },
  {
   "cell_type": "markdown",
   "id": "987f1771",
   "metadata": {},
   "source": [
    "Set initial resonance, Delta, and migration rate"
   ]
  },
  {
   "cell_type": "code",
   "execution_count": 4,
   "id": "0519b245",
   "metadata": {},
   "outputs": [],
   "source": [
    "jres,kres = 2,1\n",
    "Delta0 = -0.0125\n",
    "tau_a2 = 1e6"
   ]
  },
  {
   "cell_type": "markdown",
   "id": "f41848bd",
   "metadata": {},
   "source": [
    "Initialize simulation"
   ]
  },
  {
   "cell_type": "code",
   "execution_count": 5,
   "id": "280a4b4b",
   "metadata": {},
   "outputs": [],
   "source": [
    "sim = rb.Simulation()\n",
    "sim.add(m=1)\n",
    "sim.add(m=1e-5,P = 1 )\n",
    "sim.add(m=1e-5,P = (jres)/(jres-kres) * (1+Delta0) )\n",
    "sim.move_to_com()\n",
    "\n",
    "sim.integrator = 'whfast'\n",
    "sim.ri_whfast.safe_mode = 0\n",
    "set_time_step(sim,1/21.)\n",
    "\n",
    "extras = rbx.Extras(sim)\n",
    "\n",
    "mod = extras.load_operator(\"modify_orbits_direct\")\n",
    "extras.add_operator(mod)\n",
    "sim.particles[2].params['tau_a'] = tau_a2"
   ]
  },
  {
   "cell_type": "markdown",
   "id": "4bfae166",
   "metadata": {},
   "source": [
    "Choose integration time and number of outputs"
   ]
  },
  {
   "cell_type": "code",
   "execution_count": 6,
   "id": "a6de86a2",
   "metadata": {},
   "outputs": [],
   "source": [
    "Tfin = 1e4\n",
    "Nout = 512\n",
    "\n",
    "Nsteps_out = int(np.floor(Tfin/Nout/sim.dt))"
   ]
  },
  {
   "cell_type": "markdown",
   "id": "72ee428d",
   "metadata": {},
   "source": [
    "Integrate, saving to simulation archive"
   ]
  },
  {
   "cell_type": "code",
   "execution_count": 7,
   "id": "84a3a37d",
   "metadata": {},
   "outputs": [],
   "source": [
    "sim.automateSimulationArchive(\"diverging_migration_{}to{}.sa\".format(jres,jres-kres),step=Nsteps_out,deletefile=True)\n",
    "\n",
    "sim.integrate(Tfin)"
   ]
  },
  {
   "cell_type": "markdown",
   "id": "cb31ff3f",
   "metadata": {},
   "source": [
    "# celmech"
   ]
  },
  {
   "cell_type": "markdown",
   "id": "49da9e1b",
   "metadata": {},
   "source": [
    "Make a `PoincareHamiltonian` with MMR terms"
   ]
  },
  {
   "cell_type": "code",
   "execution_count": 8,
   "id": "5d16eb2b",
   "metadata": {},
   "outputs": [
    {
     "name": "stderr",
     "output_type": "stream",
     "text": [
      "/fs/lustre/cita/hadden/miniconda3/envs/celmech/lib/python3.11/site-packages/rebound-3.24.3-py3.11-linux-x86_64.egg/rebound/simulationarchive.py:146: RuntimeWarning: You have to reset function pointers after creating a reb_simulation struct with a binary file.\n",
      "  warnings.warn(message, RuntimeWarning)\n"
     ]
    }
   ],
   "source": [
    "sa = rb.SimulationArchive(\"diverging_migration_{}to{}.sa\".format(jres,jres-kres))\n",
    "\n",
    "sim0 = sa[0]\n",
    "pvars = cm.Poincare.from_Simulation(sim0)\n",
    "pham = cm.PoincareHamiltonian(pvars)\n",
    "\n",
    "pham.add_MMR_terms(jres,kres,max_order=1)"
   ]
  },
  {
   "cell_type": "markdown",
   "id": "e08b1770",
   "metadata": {},
   "source": [
    "Canonical transformation to resonant angles"
   ]
  },
  {
   "cell_type": "code",
   "execution_count": 9,
   "id": "fe252084",
   "metadata": {},
   "outputs": [],
   "source": [
    "from celmech.canonical_transformations import CanonicalTransformation"
   ]
  },
  {
   "cell_type": "code",
   "execution_count": 10,
   "id": "7fc43887",
   "metadata": {},
   "outputs": [],
   "source": [
    "A = np.eye(pham.N_dof,dtype=int)\n",
    "\n",
    "A[0,:3] = [kres-jres,jres,1]\n",
    "A[1,:4] = [kres-jres,jres,0,1]\n",
    "A[2,:4] = [kres-jres,jres,0,0]\n",
    "A[3,:4] = [0,1,0,0]"
   ]
  },
  {
   "cell_type": "code",
   "execution_count": 11,
   "id": "7d009375",
   "metadata": {},
   "outputs": [
    {
     "data": {
      "text/latex": [
       "$\\displaystyle - \\frac{C_{(2,-1,-1,0,0,0)}^{(0,0,0,0),(0,0)}(\\alpha_{1,2}) G m_{1} m_{2} x_{1}}{\\sqrt{\\Lambda_{1,0}} a_{2,0}} - \\frac{C_{(2,-1,0,-1,0,0)}^{(0,0,0,0),(0,0)}(\\alpha_{1,2}) G m_{1} m_{2} x_{2}}{\\sqrt{\\Lambda_{2,0}} a_{2,0}} - \\frac{G^{2} M_{1}^{2} \\mu_{1}^{3}}{2 \\left(P_{3} + \\frac{x_{1}^{2}}{2} + \\frac{x_{2}^{2}}{2} + \\frac{y_{1}^{2}}{2} + \\frac{y_{2}^{2}}{2}\\right)^{2}} - \\frac{G^{2} M_{2}^{2} \\mu_{2}^{3}}{2 \\left(2 P_{3} + P_{4} + x_{1}^{2} + x_{2}^{2} + y_{1}^{2} + y_{2}^{2}\\right)^{2}}$"
      ],
      "text/plain": [
       "                                                                                                                           \n",
       "  C_{(2,-1,-1,0,0,0)}_{1,2})__{(0,0,0,0),(0,0)}(\\alpha⋅G⋅m₁⋅m₂⋅x₁   C_{(2,-1,0,-1,0,0)}_{1,2})__{(0,0,0,0),(0,0)}(\\alpha⋅G⋅\n",
       "- ─────────────────────────────────────────────────────────────── - ───────────────────────────────────────────────────────\n",
       "                       _______________                                                   _______________                   \n",
       "                     ╲╱ \\Lambda_{1,0} ⋅a_{2,0}                                         ╲╱ \\Lambda_{2,0} ⋅a_{2,0}           \n",
       "                                                                                                                           \n",
       "                                                                                                                           \n",
       "                                                                                                                           \n",
       "\n",
       "                       2   2   3                            2   2   3              \n",
       "m₁⋅m₂⋅x₂              G ⋅M₁ ⋅μ₁                            G ⋅M₂ ⋅μ₂               \n",
       "──────── - ─────────────────────────────── - ──────────────────────────────────────\n",
       "                                         2                                        2\n",
       "             ⎛       2     2     2     2⎞      ⎛              2     2     2     2⎞ \n",
       "             ⎜     x₁    x₂    y₁    y₂ ⎟    2⋅⎝2⋅P₃ + P₄ + x₁  + x₂  + y₁  + y₂ ⎠ \n",
       "           2⋅⎜P₃ + ─── + ─── + ─── + ───⎟                                          \n",
       "             ⎝      2     2     2     2 ⎠                                          "
      ]
     },
     "execution_count": 11,
     "metadata": {},
     "output_type": "execute_result"
    }
   ],
   "source": [
    "ct = CanonicalTransformation.from_poincare_angles_matrix(pvars,A)\n",
    "kam = ct.old_to_new_hamiltonian(pham,do_reduction=True)\n",
    "ct_p2c = CanonicalTransformation.polar_to_cartesian(kam.full_qp_vars,[0,1])\n",
    "kam_xy = ct_p2c.old_to_new_hamiltonian(kam)\n",
    "ct_composite = CanonicalTransformation.composite([ct,ct_p2c])\n",
    "\n",
    "kam_xy.H"
   ]
  },
  {
   "cell_type": "markdown",
   "id": "80a39da6",
   "metadata": {},
   "source": [
    "Conserved quantities of the new Hamiltonian:"
   ]
  },
  {
   "cell_type": "code",
   "execution_count": 12,
   "id": "3ca342e1",
   "metadata": {},
   "outputs": [
    {
     "data": {
      "text/latex": [
       "$\\displaystyle \\left( P_{3}, \\  - \\Lambda_{1} - \\frac{\\eta_{1}^{2}}{2} - \\frac{\\eta_{2}^{2}}{2} - \\frac{\\kappa_{1}^{2}}{2} - \\frac{\\kappa_{2}^{2}}{2}\\right)$"
      ],
      "text/plain": [
       "⎛            2     2     2     2⎞\n",
       "⎜          η₁    η₂    κ₁    κ₂ ⎟\n",
       "⎜P₃, -Λ₁ - ─── - ─── - ─── - ───⎟\n",
       "⎝           2     2     2     2 ⎠"
      ]
     },
     "metadata": {},
     "output_type": "display_data"
    },
    {
     "data": {
      "text/latex": [
       "$\\displaystyle \\left( P_{4}, \\  2 \\Lambda_{1} + \\Lambda_{2}\\right)$"
      ],
      "text/plain": [
       "(P₄, 2⋅Λ₁ + Λ₂)"
      ]
     },
     "metadata": {},
     "output_type": "display_data"
    },
    {
     "data": {
      "text/latex": [
       "$\\displaystyle \\left( P_{5}, \\  \\frac{\\rho_{1}^{2}}{2} + \\frac{\\sigma_{1}^{2}}{2}\\right)$"
      ],
      "text/plain": [
       "⎛      2     2⎞\n",
       "⎜    ρ₁    σ₁ ⎟\n",
       "⎜P₅, ─── + ───⎟\n",
       "⎝     2     2 ⎠"
      ]
     },
     "metadata": {},
     "output_type": "display_data"
    },
    {
     "data": {
      "text/latex": [
       "$\\displaystyle \\left( P_{6}, \\  \\frac{\\rho_{2}^{2}}{2} + \\frac{\\sigma_{2}^{2}}{2}\\right)$"
      ],
      "text/plain": [
       "⎛      2     2⎞\n",
       "⎜    ρ₂    σ₂ ⎟\n",
       "⎜P₆, ─── + ───⎟\n",
       "⎝     2     2 ⎠"
      ]
     },
     "metadata": {},
     "output_type": "display_data"
    }
   ],
   "source": [
    "Pcons = [p for q,p in kam_xy.full_qp_pairs if p not in kam_xy.qp_vars]\n",
    "\n",
    "for P in Pcons:\n",
    "    display((P,ct_composite.new_to_old(P)))"
   ]
  },
  {
   "cell_type": "markdown",
   "id": "df839b04",
   "metadata": {},
   "source": [
    "## Integrate with dissipateive terms added\n",
    "\n",
    "The equations of motion with dissipation will be\n",
    "\n",
    "$$\n",
    "\\frac{d \\eta_i}{dt}\\bigg|_\\mathrm{dis}  \\approx -\\left({\\gamma_{e,i}} + \\frac{\\gamma_{a,i}}{4}\\right)\\eta_i \\\\\n",
    "\\frac{d \\kappa_i}{dt}\\bigg|_\\mathrm{dis}  \\approx -\\left({\\gamma_{e,i}} + \\frac{\\gamma_{a,i}}{4}\\right)\\kappa_i\\\\\n",
    "\\frac{d \\Lambda_i}{dt}\\bigg|_\\mathrm{dis}  = -\\frac{\\gamma_{a,i}}{2}\\Lambda_i\n",
    "$$\n",
    "\n",
    "where $\\gamma_{a,i} = -1/\\tau_{a,i}$ and $\\gamma_{e,i} = -1/\\tau_{e,i}$."
   ]
  },
  {
   "cell_type": "code",
   "execution_count": 13,
   "id": "6aacd31a",
   "metadata": {},
   "outputs": [],
   "source": [
    "import sympy as sp\n",
    "from sympy.simplify.fu import TR10"
   ]
  },
  {
   "cell_type": "markdown",
   "id": "65ee93da",
   "metadata": {},
   "source": [
    "Dynamical variables for new equations of motion"
   ]
  },
  {
   "cell_type": "code",
   "execution_count": 14,
   "id": "e90163d3",
   "metadata": {},
   "outputs": [],
   "source": [
    "dyvars = kam_xy.qp_vars + Pcons[:2]"
   ]
  },
  {
   "cell_type": "code",
   "execution_count": 15,
   "id": "fcb8063f",
   "metadata": {},
   "outputs": [],
   "source": [
    "gamma_a = sp.symbols(\"gamma_a(1:{})\".format(pham.N),positive = True)\n",
    "gamma_e = sp.symbols(\"gamma_e(1:{})\".format(pham.N),positive = True)\n",
    "gamma_Lmbda = [ ga / 2 for ga in gamma_a]\n",
    "gamma_ecc_vars = [(ge +  ga / 4) for ga,ge in zip(gamma_a,gamma_e)]\n",
    "\n",
    "gamma_vars = gamma_e + gamma_a "
   ]
  },
  {
   "cell_type": "markdown",
   "id": "518b9147",
   "metadata": {},
   "source": [
    "The dissipative terms, expressed using the new variables, $\\{X_i\\}_{i=1}^{6}$, are given by \n",
    "$$\n",
    "\\frac{dX_i}{dt}\\bigg|_\\mathrm{dis} = \\sum_{j}\n",
    "    \\frac{\\partial X_i}{\\partial{\\eta_j}}\\frac{d \\eta_i}{dt}\\bigg|_\\mathrm{dis} + \n",
    "        \\frac{\\partial X_i}{\\partial{\\kappa_j}}\\frac{d \\kappa_i}{dt}\\bigg|_\\mathrm{dis} + \n",
    "            \\frac{\\partial X_i}{\\partial{\\Lambda_j}}\\frac{d \\Lambda_i}{dt}\\bigg|_\\mathrm{dis}\n",
    "$$"
   ]
  },
  {
   "cell_type": "code",
   "execution_count": 16,
   "id": "944dabe9",
   "metadata": {},
   "outputs": [
    {
     "data": {
      "text/latex": [
       "$\\displaystyle \\left[\\begin{matrix}- y_{1} \\left(\\frac{\\gamma_{a1}}{4} + \\gamma_{e1}\\right)\\\\- y_{2} \\left(\\frac{\\gamma_{a2}}{4} + \\gamma_{e2}\\right)\\\\- x_{1} \\left(\\frac{\\gamma_{a1}}{4} + \\gamma_{e1}\\right)\\\\- x_{2} \\left(\\frac{\\gamma_{a2}}{4} + \\gamma_{e2}\\right)\\\\- \\frac{P_{3} \\gamma_{a1}}{2} - \\frac{\\gamma_{a1} x_{2}^{2}}{4} - \\frac{\\gamma_{a1} y_{2}^{2}}{4} + \\frac{\\gamma_{a2} x_{2}^{2}}{4} + \\frac{\\gamma_{a2} y_{2}^{2}}{4} + \\gamma_{e1} x_{1}^{2} + \\gamma_{e1} y_{1}^{2} + \\gamma_{e2} x_{2}^{2} + \\gamma_{e2} y_{2}^{2}\\\\\\frac{\\gamma_{a1} \\cdot \\left(2 P_{3} + x_{1}^{2} + x_{2}^{2} + y_{1}^{2} + y_{2}^{2}\\right)}{2} - \\frac{\\gamma_{a2} \\cdot \\left(2 P_{3} + P_{4} + x_{1}^{2} + x_{2}^{2} + y_{1}^{2} + y_{2}^{2}\\right)}{2}\\end{matrix}\\right]$"
      ],
      "text/plain": [
       "⎡                                        ⎛γₐ₁      ⎞                                     ⎤\n",
       "⎢                                    -y₁⋅⎜─── + γₑ₁⎟                                     ⎥\n",
       "⎢                                        ⎝ 4       ⎠                                     ⎥\n",
       "⎢                                                                                        ⎥\n",
       "⎢                                        ⎛γₐ₂      ⎞                                     ⎥\n",
       "⎢                                    -y₂⋅⎜─── + γₑ₂⎟                                     ⎥\n",
       "⎢                                        ⎝ 4       ⎠                                     ⎥\n",
       "⎢                                                                                        ⎥\n",
       "⎢                                        ⎛γₐ₁      ⎞                                     ⎥\n",
       "⎢                                    -x₁⋅⎜─── + γₑ₁⎟                                     ⎥\n",
       "⎢                                        ⎝ 4       ⎠                                     ⎥\n",
       "⎢                                                                                        ⎥\n",
       "⎢                                        ⎛γₐ₂      ⎞                                     ⎥\n",
       "⎢                                    -x₂⋅⎜─── + γₑ₂⎟                                     ⎥\n",
       "⎢                                        ⎝ 4       ⎠                                     ⎥\n",
       "⎢                                                                                        ⎥\n",
       "⎢                 2         2         2         2                                        ⎥\n",
       "⎢  P₃⋅γₐ₁   γₐ₁⋅x₂    γₐ₁⋅y₂    γₐ₂⋅x₂    γₐ₂⋅y₂          2         2         2         2⎥\n",
       "⎢- ────── - ─────── - ─────── + ─────── + ─────── + γₑ₁⋅x₁  + γₑ₁⋅y₁  + γₑ₂⋅x₂  + γₑ₂⋅y₂ ⎥\n",
       "⎢    2         4         4         4         4                                           ⎥\n",
       "⎢                                                                                        ⎥\n",
       "⎢          ⎛         2     2     2     2⎞       ⎛              2     2     2     2⎞      ⎥\n",
       "⎢      γₐ₁⋅⎝2⋅P₃ + x₁  + x₂  + y₁  + y₂ ⎠   γₐ₂⋅⎝2⋅P₃ + P₄ + x₁  + x₂  + y₁  + y₂ ⎠      ⎥\n",
       "⎢      ────────────────────────────────── - ───────────────────────────────────────      ⎥\n",
       "⎣                      2                                       2                         ⎦"
      ]
     },
     "execution_count": 16,
     "metadata": {},
     "output_type": "execute_result"
    }
   ],
   "source": [
    "etas = [pham.qp_vars[3*i + 1] for i in range(pham.N-1)]\n",
    "kappas = [pham.qp_vars[3*i + 1 + pham.N_dof] for i in range(pham.N-1)]\n",
    "Lambdas = [pham.qp_vars[3*i  + pham.N_dof] for i in range(pham.N-1)] \n",
    "fdis = sp.Matrix(np.zeros(len(dyvars),dtype=int))\n",
    "for i,v in enumerate(dyvars):\n",
    "    exprn = ct_composite.new_to_old(v)\n",
    "    exprn = sp.simplify(TR10(exprn))\n",
    "    for j in range(pham.N-1):\n",
    "        fdis[i] += -gamma_ecc_vars[j] * sp.diff(exprn,etas[j]) * etas[j]\n",
    "        fdis[i] += -gamma_ecc_vars[j] * sp.diff(exprn,kappas[j]) * kappas[j]\n",
    "        fdis[i] += -gamma_Lmbda[j] * sp.diff(exprn,Lambdas[j]) * Lambdas[j] \n",
    "fdis = sp.simplify(ct_composite.old_to_new(fdis))\n",
    "fdis"
   ]
  },
  {
   "cell_type": "markdown",
   "id": "f03060a4",
   "metadata": {},
   "source": [
    "The conservative terms are given by Hamilton's equations:"
   ]
  },
  {
   "cell_type": "code",
   "execution_count": 17,
   "id": "5212e2fb",
   "metadata": {},
   "outputs": [],
   "source": [
    "fcons = sp.Matrix(np.zeros(len(dyvars),dtype=int))\n",
    "for i in range(kam_xy.N_dim):\n",
    "    fcons[i] = kam_xy.flow.xreplace(pham.H_params)[i]"
   ]
  },
  {
   "cell_type": "markdown",
   "id": "ed4b12a0",
   "metadata": {},
   "source": [
    "Lambidfy the new equtaions:"
   ]
  },
  {
   "cell_type": "code",
   "execution_count": 18,
   "id": "30d74e06",
   "metadata": {},
   "outputs": [],
   "source": [
    "Ndim = len(dyvars)\n",
    "full_flow = sp.lambdify(tuple(dyvars) + gamma_vars,fcons + fdis)\n",
    "jac = sp.Matrix(Ndim,Ndim, lambda i,j: sp.diff((fcons + fdis)[i],dyvars[j]))\n",
    "full_jac = sp.lambdify(tuple(dyvars) + gamma_vars,jac)"
   ]
  },
  {
   "cell_type": "markdown",
   "id": "e9493fd9",
   "metadata": {},
   "source": [
    "Integrate new equations using scipy:"
   ]
  },
  {
   "cell_type": "code",
   "execution_count": 19,
   "id": "780581eb",
   "metadata": {},
   "outputs": [],
   "source": [
    "from scipy.integrate import solve_ivp"
   ]
  },
  {
   "cell_type": "code",
   "execution_count": 20,
   "id": "3c18540a",
   "metadata": {},
   "outputs": [],
   "source": [
    "## set up\n",
    "y0 = np.array([kam_xy.full_qp[v] for v in dyvars])\n",
    "Ngammas = np.zeros(4)\n",
    "Ngammas[-1] = -1/tau_a2\n",
    "\n",
    "f = lambda t,y: full_flow(*y,*Ngammas).reshape(-1)\n",
    "Df = lambda t,y: full_jac(*y,*Ngammas)"
   ]
  },
  {
   "cell_type": "code",
   "execution_count": 21,
   "id": "f8496fbe",
   "metadata": {},
   "outputs": [],
   "source": [
    "## integrate\n",
    "\n",
    "times = np.linspace(0,1e4,256)\n",
    "soln = solve_ivp(f,(times[0],times[-1]),y0,method='Radau',t_eval=times,jac = Df)"
   ]
  },
  {
   "cell_type": "markdown",
   "id": "605972fa",
   "metadata": {},
   "source": [
    "Convert solution to orbital elements"
   ]
  },
  {
   "cell_type": "code",
   "execution_count": 22,
   "id": "6d1ca008",
   "metadata": {},
   "outputs": [],
   "source": [
    "vals = np.array(kam_xy.full_values)\n",
    "indices = [kam_xy.full_qp_vars.index(v) for v in dyvars]\n",
    "Delta,e1,e2 = np.zeros((3,len(soln.y.T)))\n",
    "particles = pvars.particles\n",
    "for i,yvec in enumerate(soln.y.T):\n",
    "    vals[indices] = yvec\n",
    "    pvars.values = ct_composite.new_to_old_array(vals)\n",
    "    Delta[i] = (jres-kres) * particles[2].P/particles[1].P / jres - 1\n",
    "    e1[i] =  particles[1].e\n",
    "    e2[i] =  particles[2].e"
   ]
  },
  {
   "cell_type": "markdown",
   "id": "8b6f442e",
   "metadata": {},
   "source": [
    "Compare N-body and celmech"
   ]
  },
  {
   "cell_type": "code",
   "execution_count": 23,
   "id": "b0f5300d",
   "metadata": {
    "scrolled": false
   },
   "outputs": [
    {
     "name": "stderr",
     "output_type": "stream",
     "text": [
      "/fs/lustre/cita/hadden/miniconda3/envs/celmech/lib/python3.11/site-packages/rebound-3.24.3-py3.11-linux-x86_64.egg/rebound/simulation.py:1987: FutureWarning: sim.calculate_energy() is deprecated and will be removed in the future. Use sim.energy() instead\n",
      "  warnings.warn( \"sim.calculate_energy() is deprecated and will be removed in the future. Use sim.energy() instead\", FutureWarning)\n"
     ]
    },
    {
     "data": {
      "text/plain": [
       "[<matplotlib.lines.Line2D at 0x7fe471ec0c10>]"
      ]
     },
     "execution_count": 23,
     "metadata": {},
     "output_type": "execute_result"
    },
    {
     "data": {
      "image/png": "[encoded data removed]",
      "text/plain": [
       "<Figure size 640x480 with 1 Axes>"
      ]
     },
     "metadata": {},
     "output_type": "display_data"
    }
   ],
   "source": [
    "result = get_simarchive_integration_results(\"diverging_migration_{}to{}.sa\".format(jres,jres-kres))\n",
    "nbody_Delta = (jres-kres)*result['P'][1]/result['P'][0]/jres - 1 \n",
    "\n",
    "l,=plt.plot(nbody_Delta,result['e'][0])\n",
    "plt.plot(Delta,e1,color=l.get_color(),ls='--')\n",
    "l,=plt.plot(nbody_Delta,result['e'][1])\n",
    "plt.plot(Delta,e2,color=l.get_color(),ls='--')\n"
   ]
  }
 ],
 "metadata": {
  "kernelspec": {
   "display_name": "Python 3 (ipykernel)",
   "language": "python",
   "name": "python3"
  },
  "language_info": {
   "codemirror_mode": {
    "name": "ipython",
    "version": 3
   },
   "file_extension": ".py",
   "mimetype": "text/x-python",
   "name": "python",
   "nbconvert_exporter": "python",
   "pygments_lexer": "ipython3",
   "version": "3.11.3"
  }
 },
 "nbformat": 4,
 "nbformat_minor": 5
}
